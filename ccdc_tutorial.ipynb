{
 "cells": [
  {
   "cell_type": "code",
   "execution_count": null,
   "id": "a3db320d-24fd-4e04-8e7f-b27099d3b783",
   "metadata": {},
   "outputs": [],
   "source": [
    "from ccdc import io\n",
    "\n",
    "csd_reader=io.EntryReader('CSD') #creates driver that handles crystal structure database entries\n",
    "print(len(csd_reader))"
   ]
  },
  {
   "cell_type": "code",
   "execution_count": null,
   "id": "6152b16e-ec58-4c9c-a8a6-6c648f8a509d",
   "metadata": {},
   "outputs": [],
   "source": [
    "#1\n",
    "import numpy as np\n",
    "import ccdc\n",
    "import matplotlib.pyplot as plt\n",
    "\n",
    "\n",
    "#Due to the over 1million size of database, I'm setting limit of first 10000.\n",
    "#can use a linspace to get evenly distributed sample of a entries\n",
    "r=10000\n",
    "spacegroups=[]\n",
    "#there will be a runtime error if an entry with an unrecognized space group is searched\n",
    "for i in range(r):\n",
    "    try:\n",
    "        spacegroups.append(csd_reader[i].crystal.spacegroup_number_and_setting[0])\n",
    "    except:\n",
    "        continue\n",
    "\n",
    "plt.figure(figsize=(20,10))\n",
    "plt.hist(spacegroups,bins=range(230))\n",
    "plt.title('Space Group Distribution')\n",
    "plt.show()\n"
   ]
  },
  {
   "cell_type": "code",
   "execution_count": null,
   "id": "e3cea316-df97-461e-9ddd-e9a3befe1b40",
   "metadata": {},
   "outputs": [],
   "source": []
  },
  {
   "cell_type": "code",
   "execution_count": null,
   "id": "fe35e164-8958-4542-87a3-c9a2bef64fd5",
   "metadata": {},
   "outputs": [],
   "source": [
    "organic=[]\n",
    "organometallic=[]\n",
    "csd_ids=[] #list of ids that have single component\n",
    "for i in range(r):\n",
    "    mol=csd_reader[i].molecule\n",
    "    if not len(mol.components)==1:\n",
    "        continue\n",
    "    csd_ids.append(i)\n",
    "    if mol.is_organic:\n",
    "        organic.append(mol)\n",
    "    elif mol.is_organometallic:\n",
    "        organometallic.append(mol)\n",
    "        \n",
    "z_prime=[]\n",
    "for idx in csd_ids:\n",
    "    crys=csd_reader[idx].crystal\n",
    "    z_prime.append(crys.z_prime)\n",
    "\n",
    "\n",
    "\n",
    "        \n",
    "print('Organic 1 component: ', len(organic))\n",
    "print('Organometallic 1 component: ', len(organometallic))\n",
    "\n",
    "\n",
    "plt.figure(figsize=(20,10))\n",
    "plt.hist(z_prime,bins=[0,1,2,3])\n",
    "plt.title(\"Z' Distribution\")\n",
    "plt.show()"
   ]
  },
  {
   "cell_type": "code",
   "execution_count": null,
   "id": "6dd4a958-934a-445b-9844-97a9e5e01686",
   "metadata": {},
   "outputs": [],
   "source": [
    "from ccdc.descriptors import MolecularDescriptors\n",
    "single_component_mols=[]\n",
    "for i in csd_ids:\n",
    "    single_component_mols.append(csd_reader[i].molecule)\n",
    "    \n",
    "\n",
    "for i,x in enumerate(single_component_mols):\n",
    "    p=MolecularDescriptors.point_group_analysis(x)[1]\n",
    "    print('ID: ',csd_ids[i],'  Point Group Symmetry: ', p)"
   ]
  },
  {
   "cell_type": "code",
   "execution_count": null,
   "id": "ba0055c0-039f-49ca-b841-764b634b0c76",
   "metadata": {},
   "outputs": [],
   "source": [
    "from ccdc.crystal import PackingSimilarity\n",
    "similarity_engine=PackingSimilarity()\n",
    "x=csd_reader[csd_ids[0]].crystal\n",
    "y=csd_reader[csd_ids[50]].crystal\n",
    "# help(similarity_engine.compare)\n",
    "similarity_engine.settings.allow_molecular_differences=True\n",
    "h=similarity_engine.compare(reference=x,target=y)\n",
    "type(x)\n",
    "\n",
    "from ccdc.io import CrystalReader\n",
    "\n",
    "csd=CrystalReader('csd')\n",
    "g=csd.crystal('FETSEC')\n",
    "h=csd.crystal('ZERLUD')\n",
    "similarity_engine.compare(h,g).rmsd"
   ]
  },
  {
   "cell_type": "code",
   "execution_count": null,
   "id": "90db7308-b373-4a34-8997-221e738459d3",
   "metadata": {},
   "outputs": [],
   "source": []
  }
 ],
 "metadata": {
  "kernelspec": {
   "display_name": "Python 3",
   "language": "python",
   "name": "python3"
  },
  "language_info": {
   "codemirror_mode": {
    "name": "ipython",
    "version": 3
   },
   "file_extension": ".py",
   "mimetype": "text/x-python",
   "name": "python",
   "nbconvert_exporter": "python",
   "pygments_lexer": "ipython3",
   "version": "3.7.11"
  }
 },
 "nbformat": 4,
 "nbformat_minor": 5
}
